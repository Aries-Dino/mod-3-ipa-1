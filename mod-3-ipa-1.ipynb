{
 "cells": [
  {
   "cell_type": "code",
   "execution_count": 17,
   "id": "4a9c638c-d7a3-4177-b70f-4c93806534c1",
   "metadata": {},
   "outputs": [],
   "source": [
    "def shift_letter(letter, shift):\n",
    "    '''Shift Letter. \n",
    "    5 points.\n",
    "    \n",
    "    Shift a letter right by the given number.\n",
    "    Wrap the letter around if it reaches the end of the alphabet.\n",
    "    Examples:\n",
    "    shift_letter(\"A\", 0) -> \"A\"\n",
    "    shift_letter(\"A\", 2) -> \"C\"\n",
    "    shift_letter(\"Z\", 1) -> \"A\"\n",
    "    shift_letter(\"X\", 5) -> \"C\"\n",
    "    shift_letter(\" \", _) -> \" \"\n",
    "    *Note: the single underscore `_` is used to acknowledge the presence\n",
    "        of a value without caring about its contents.\n",
    "    Parameters\n",
    "    ----------\n",
    "    letter: str\n",
    "        a single uppercase English letter, or a space.\n",
    "    shift: int\n",
    "        the number by which to shift the letter. \n",
    "    Returns\n",
    "    -------\n",
    "    str\n",
    "        the letter, shifted appropriately, if a letter.\n",
    "        a single space if the original letter was a space.\n",
    "    '''\n",
    "    # Replace `pass` with your code. \n",
    "    # Stay within the function. Only use the parameters as input. The function should return your answer.\n",
    "    import string\n",
    "    if str.isalpha(letter) == True:\n",
    "        x = string.ascii_uppercase.index(letter)+shift\n",
    "        if x <= 25 and x >= -25:\n",
    "            return string.ascii_uppercase[x]\n",
    "        elif x>25:\n",
    "            while x > 25:\n",
    "                x = x-26\n",
    "            return string.ascii_uppercase[x]\n",
    "        else:\n",
    "            while x < -25:\n",
    "                x = x+26\n",
    "            return string.ascii_uppercase[x]\n",
    "    else:\n",
    "        return \" \""
   ]
  },
  {
   "cell_type": "code",
   "execution_count": 19,
   "id": "9a179d18-c612-41e2-8d3b-2c64188cd5a8",
   "metadata": {},
   "outputs": [
    {
     "data": {
      "text/plain": [
       "'E'"
      ]
     },
     "execution_count": 19,
     "metadata": {},
     "output_type": "execute_result"
    }
   ],
   "source": [
    "shift_letter(\"B\",3)"
   ]
  },
  {
   "cell_type": "code",
   "execution_count": 21,
   "id": "8db35b4a-9f22-49d8-9f69-3618eee1eccd",
   "metadata": {},
   "outputs": [
    {
     "data": {
      "text/plain": [
       "'V'"
      ]
     },
     "execution_count": 21,
     "metadata": {},
     "output_type": "execute_result"
    }
   ],
   "source": [
    "shift_letter(\"A\",-5)"
   ]
  },
  {
   "cell_type": "code",
   "execution_count": 20,
   "id": "d601333b-6478-4d55-aad4-d3f3c6244f97",
   "metadata": {},
   "outputs": [
    {
     "data": {
      "text/plain": [
       "'W'"
      ]
     },
     "execution_count": 20,
     "metadata": {},
     "output_type": "execute_result"
    }
   ],
   "source": [
    "shift_letter(\"A\",100)"
   ]
  },
  {
   "cell_type": "code",
   "execution_count": 12,
   "id": "7da6ad14-9c54-4cb9-868d-fc37eadbd62c",
   "metadata": {},
   "outputs": [
    {
     "data": {
      "text/plain": [
       "'A'"
      ]
     },
     "execution_count": 12,
     "metadata": {},
     "output_type": "execute_result"
    }
   ],
   "source": [
    "shift_letter(\"Z\",1)"
   ]
  },
  {
   "cell_type": "code",
   "execution_count": 22,
   "id": "3463dcfc-ebff-42a1-95c5-9a7703a17a57",
   "metadata": {},
   "outputs": [
    {
     "data": {
      "text/plain": [
       "'E'"
      ]
     },
     "execution_count": 22,
     "metadata": {},
     "output_type": "execute_result"
    }
   ],
   "source": [
    "shift_letter(\"Z\",31)"
   ]
  },
  {
   "cell_type": "code",
   "execution_count": 23,
   "id": "8674dae4-34d3-4d28-827e-5010f7fef130",
   "metadata": {},
   "outputs": [
    {
     "data": {
      "text/plain": [
       "'Z'"
      ]
     },
     "execution_count": 23,
     "metadata": {},
     "output_type": "execute_result"
    }
   ],
   "source": [
    "shift_letter(\"A\",-27)"
   ]
  },
  {
   "cell_type": "code",
   "execution_count": 24,
   "id": "d8a8f4bd-48cb-4b1d-b8b2-022d5b8ab93d",
   "metadata": {},
   "outputs": [
    {
     "data": {
      "text/plain": [
       "'E'"
      ]
     },
     "execution_count": 24,
     "metadata": {},
     "output_type": "execute_result"
    }
   ],
   "source": [
    "shift_letter(\"A\",-100)"
   ]
  },
  {
   "cell_type": "code",
   "execution_count": 25,
   "id": "045949fe-b0b2-484b-9bfc-5214b9e34d6f",
   "metadata": {},
   "outputs": [
    {
     "data": {
      "text/plain": [
       "' '"
      ]
     },
     "execution_count": 25,
     "metadata": {},
     "output_type": "execute_result"
    }
   ],
   "source": [
    "shift_letter(\" \",3)"
   ]
  },
  {
   "cell_type": "code",
   "execution_count": 9,
   "id": "7328aa14-35e9-4d5d-80c5-4c36a4199a4c",
   "metadata": {},
   "outputs": [],
   "source": [
    "def caesar_cipher(message, shift):\n",
    "    '''Caesar Cipher. \n",
    "    10 points.\n",
    "    \n",
    "    Apply a shift number to a string of uppercase English letters and spaces.\n",
    "    Parameters\n",
    "    ----------\n",
    "    message: str\n",
    "        a string of uppercase English letters and spaces.\n",
    "    shift: int\n",
    "        the number by which to shift the letters. \n",
    "    Returns\n",
    "    -------\n",
    "    str\n",
    "        the message, shifted appropriately.\n",
    "    '''\n",
    "    # Replace `pass` with your code. \n",
    "    # Stay within the function. Only use the parameters as input. The function should return your answer.\n",
    "    import string\n",
    "    z = \"\"\n",
    "    for i in message:\n",
    "        if str.isalpha(i) == True:  \n",
    "            x = string.ascii_uppercase.index(i)+shift\n",
    "\n",
    "            if x <= 25 and x >= -25:\n",
    "                y = string.ascii_uppercase[x]\n",
    "            elif x>25:\n",
    "                while x > 25:\n",
    "                    x = x-26\n",
    "                y = string.ascii_uppercase[x]\n",
    "            else:\n",
    "                while x < -25:\n",
    "                    x = x+26\n",
    "                y = string.ascii_uppercase[x]\n",
    "            z = z+y\n",
    "        else:\n",
    "            z = z+i\n",
    "    return z"
   ]
  },
  {
   "cell_type": "code",
   "execution_count": 10,
   "id": "c3c0d355-97bc-462b-ac30-effd87fd9b43",
   "metadata": {},
   "outputs": [
    {
     "data": {
      "text/plain": [
       "'DAHHK SKNHZ'"
      ]
     },
     "execution_count": 10,
     "metadata": {},
     "output_type": "execute_result"
    }
   ],
   "source": [
    "caesar_cipher(\"HELLO WORLD\",100)"
   ]
  },
  {
   "cell_type": "code",
   "execution_count": 27,
   "id": "551c7086-aeef-4a88-8022-f358ff2954b0",
   "metadata": {},
   "outputs": [],
   "source": [
    "def shift_by_letter(letter, letter_shift):\n",
    "    '''Shift By Letter. \n",
    "    10 points.\n",
    "    \n",
    "    Shift a letter to the right using the number equivalent of another letter.\n",
    "    The shift letter is any letter from A to Z, where A represents 0, B represents 1, \n",
    "        ..., Z represents 25.\n",
    "    Examples:\n",
    "    shift_by_letter(\"A\", \"A\") -> \"A\"\n",
    "    shift_by_letter(\"A\", \"C\") -> \"C\"\n",
    "    shift_by_letter(\"B\", \"K\") -> \"L\"\n",
    "    shift_by_letter(\" \", _) -> \" \"\n",
    "    Parameters\n",
    "    ----------\n",
    "    letter: str\n",
    "        a single uppercase English letter, or a space.\n",
    "    letter_shift: str\n",
    "        a single uppercase English letter.\n",
    "    Returns\n",
    "    -------\n",
    "    str\n",
    "        the letter, shifted appropriately.\n",
    "    '''\n",
    "    # Replace `pass` with your code. \n",
    "    # Stay within the function. Only use the parameters as input. The function should return your answer.\n",
    "    import string\n",
    "    if str.isalpha(letter) == True:\n",
    "        x = string.ascii_uppercase.index(letter)+string.ascii_uppercase.index(letter_shift)\n",
    "        if x <= 25 and x >= -25:\n",
    "            return string.ascii_uppercase[x]\n",
    "        elif x>25:\n",
    "            while x > 25:\n",
    "                x = x-26\n",
    "            return string.ascii_uppercase[x]\n",
    "        else:\n",
    "            while x < -25:\n",
    "                x = x+26\n",
    "            return string.ascii_uppercase[x]\n",
    "    else:\n",
    "        return \" \""
   ]
  },
  {
   "cell_type": "code",
   "execution_count": 28,
   "id": "644ee8eb-404a-4e37-b235-a1ce3f9a06bd",
   "metadata": {},
   "outputs": [
    {
     "data": {
      "text/plain": [
       "'L'"
      ]
     },
     "execution_count": 28,
     "metadata": {},
     "output_type": "execute_result"
    }
   ],
   "source": [
    "shift_by_letter(\"B\",\"K\")"
   ]
  },
  {
   "cell_type": "code",
   "execution_count": 29,
   "id": "b82107aa-d012-4911-9b15-ea667acb9252",
   "metadata": {},
   "outputs": [
    {
     "data": {
      "text/plain": [
       "' '"
      ]
     },
     "execution_count": 29,
     "metadata": {},
     "output_type": "execute_result"
    }
   ],
   "source": [
    "shift_by_letter(\" \",\"K\")"
   ]
  },
  {
   "cell_type": "code",
   "execution_count": 30,
   "id": "06dc916a-3a14-4567-89b2-827355e314b7",
   "metadata": {},
   "outputs": [],
   "source": [
    "def vigenere_cipher(message, key):\n",
    "    '''Vigenere Cipher. \n",
    "    15 points.\n",
    "    \n",
    "    Encrypts a message using a keyphrase instead of a static number.\n",
    "    Every letter in the message is shifted by the number represented by the \n",
    "        respective letter in the key.\n",
    "    Spaces should be ignored.\n",
    "    Example:\n",
    "    vigenere_cipher(\"A C\", \"KEY\") -> \"K A\"\n",
    "    If needed, the keyphrase is extended to match the length of the key.\n",
    "        If the key is \"KEY\" and the message is \"LONGTEXT\",\n",
    "        the key will be extended to be \"KEYKEYKE\".\n",
    "    Parameters\n",
    "    ----------\n",
    "    message: str\n",
    "        a string of uppercase English letters and spaces.\n",
    "    key: str\n",
    "        a string of uppercase English letters. Will never be longer than the message.\n",
    "        Will never contain spaces.\n",
    "    Returns\n",
    "    -------\n",
    "    str\n",
    "        the message, shifted appropriately.\n",
    "    '''\n",
    "    # Replace `pass` with your code. \n",
    "    # Stay within the function. Only use the parameters as input. The function should return your answer.\n",
    "    import string\n",
    "    z = \"\"\n",
    "    list1 = message\n",
    "    list2 = key\n",
    "    if len(list1) <= len(list2):\n",
    "        for i, j in zip(list1, list2):\n",
    "            if str.isalpha(i) == True:  \n",
    "                x = string.ascii_uppercase.index(i)+string.ascii_uppercase.index(j)\n",
    "\n",
    "                if x <= 25 and x >= -25:\n",
    "                    y = string.ascii_uppercase[x]\n",
    "                elif x>25:\n",
    "                    while x > 25:\n",
    "                        x = x-26\n",
    "                    y = string.ascii_uppercase[x]\n",
    "                else:\n",
    "                    while x < -25:\n",
    "                        x = x+26\n",
    "                    y = string.ascii_uppercase[x]\n",
    "                z = z+y\n",
    "            else:\n",
    "                z = z+i\n",
    "    else:\n",
    "        while len(list1) > len(list2):\n",
    "            list2 = list2 + key\n",
    "        for i, j in zip(list1, list2):\n",
    "            if str.isalpha(i) == True:  \n",
    "                x = string.ascii_uppercase.index(i)+string.ascii_uppercase.index(j)\n",
    "\n",
    "                if x <= 25 and x >= -25:\n",
    "                    y = string.ascii_uppercase[x]\n",
    "                elif x>25:\n",
    "                    while x > 25:\n",
    "                        x = x-26\n",
    "                    y = string.ascii_uppercase[x]\n",
    "                else:\n",
    "                    while x < -25:\n",
    "                        x = x+26\n",
    "                    y = string.ascii_uppercase[x]\n",
    "                z = z+y\n",
    "            else:\n",
    "                z = z+i   \n",
    "    return z"
   ]
  },
  {
   "cell_type": "code",
   "execution_count": 31,
   "id": "616d5f21-f585-442e-91b9-bd9ef5868cc5",
   "metadata": {},
   "outputs": [
    {
     "data": {
      "text/plain": [
       "'K A'"
      ]
     },
     "execution_count": 31,
     "metadata": {},
     "output_type": "execute_result"
    }
   ],
   "source": [
    "vigenere_cipher(\"A C\", \"KEY\")"
   ]
  },
  {
   "cell_type": "code",
   "execution_count": 30,
   "id": "ea56bf46-2850-46a5-b418-b05b559c7c6e",
   "metadata": {},
   "outputs": [
    {
     "data": {
      "text/plain": [
       "'K AK A'"
      ]
     },
     "execution_count": 30,
     "metadata": {},
     "output_type": "execute_result"
    }
   ],
   "source": [
    "vigenere_cipher(\"A CA C\", \"KEY\")"
   ]
  },
  {
   "cell_type": "code",
   "execution_count": 31,
   "id": "c4ed0e60-eb32-4ebe-b7ee-71551ee0afde",
   "metadata": {},
   "outputs": [
    {
     "data": {
      "text/plain": [
       "'FIDJS USJJH'"
      ]
     },
     "execution_count": 31,
     "metadata": {},
     "output_type": "execute_result"
    }
   ],
   "source": [
    "vigenere_cipher(\"HELLO WORLD\",\"YES\")"
   ]
  },
  {
   "cell_type": "code",
   "execution_count": 33,
   "id": "2fbf5d38-2060-4f27-9c3b-3dcacc1e59b9",
   "metadata": {},
   "outputs": [],
   "source": [
    "def scytale_cipher(message, shift):\n",
    "    '''Scytale Cipher.\n",
    "    15 points.\n",
    "    \n",
    "    Encrypts a message by simulating a scytale cipher.\n",
    "    A scytale is a cylinder around which you can wrap a long strip of \n",
    "        parchment that contained a string of apparent gibberish. The parchment, \n",
    "        when read using the scytale, would reveal a message due to every nth \n",
    "        letter now appearing next to each other, revealing a proper message.\n",
    "    This encryption method is obsolete and should never be used to encrypt\n",
    "        data in production settings.\n",
    "    You may read more about the method here:\n",
    "        https://en.wikipedia.org/wiki/Scytale\n",
    "    You may follow this algorithm to implement a scytale-style cipher:\n",
    "    1. Take a message to be encoded and a \"shift\" number. \n",
    "        For this example, we will use \"INFORMATION_AGE\" as \n",
    "        the message and 3 as the shift.\n",
    "    2. Check if the length of the message is a multiple of \n",
    "        the shift. If it is not, add additional underscores \n",
    "        to the end of the message until it is. \n",
    "        In this example, \"INFORMATION_AGE\" is already a multiple of 3, \n",
    "        so we will leave it alone.\n",
    "    3. This is the tricky part. Construct the encoded message. \n",
    "        For each index i in the encoded message, use the character at the index\n",
    "        (i // shift) + (len(message) // shift) * (i % shift) of the raw message. \n",
    "        If this number doesn't make sense, you can play around with the cipher at\n",
    "         https://dencode.com/en/cipher/scytale to try to understand it.\n",
    "    4. Return the encoded message. In this case, \n",
    "        the output should be \"IMNNA_FTAOIGROE\".\n",
    "    Example:\n",
    "    scytale_cipher(\"INFORMATION_AGE\", 3) -> \"IMNNA_FTAOIGROE\"\n",
    "    scytale_cipher(\"INFORMATION_AGE\", 4) -> \"IRIANMOGFANEOT__\"\n",
    "    scytale_cipher(\"ALGORITHMS_ARE_IMPORTANT\", 8) -> \"AOTSRIOALRH_EMRNGIMA_PTT\"\n",
    "    Parameters\n",
    "    ----------\n",
    "    message: str\n",
    "        a string of uppercase English letters and underscores (underscores represent spaces)\n",
    "    shift: int\n",
    "        a positive int that does not exceed the length of message\n",
    "    Returns\n",
    "    -------\n",
    "    str\n",
    "        the encoded message\n",
    "    '''\n",
    "    # Replace `pass` with your code. \n",
    "    # Stay within the function. Only use the parameters as input. The function should return your answer.\n",
    "    z = \"\"\n",
    "    list1 = message\n",
    "    if len(list1) % shift != 0:\n",
    "        while len(list1) % shift != 0:\n",
    "            list1 = list1 + \"_\"\n",
    "        for i in range(len(list1)):\n",
    "            y = (i // shift) + (len(list1) // shift) * (i % shift)\n",
    "            z = z + list1[y]\n",
    "    else:\n",
    "        for i in range(len(list1)):\n",
    "            y = (i // shift) + (len(list1) // shift) * (i % shift)\n",
    "            z = z + list1[y]\n",
    "    return z"
   ]
  },
  {
   "cell_type": "code",
   "execution_count": 73,
   "id": "e1acc5b3-36bb-4e10-9e7e-adffaa8c6d7b",
   "metadata": {},
   "outputs": [
    {
     "data": {
      "text/plain": [
       "'IMNNA_FTAOIGROE'"
      ]
     },
     "execution_count": 73,
     "metadata": {},
     "output_type": "execute_result"
    }
   ],
   "source": [
    "scytale_cipher(\"INFORMATION_AGE\",3)"
   ]
  },
  {
   "cell_type": "code",
   "execution_count": 32,
   "id": "891027f3-44dc-429f-8b4b-5083e81e1b08",
   "metadata": {},
   "outputs": [],
   "source": [
    "def scytale_decipher(message, shift):\n",
    "    '''Scytale De-cipher.\n",
    "    15 points.\n",
    "    Decrypts a message that was originally encrypted with the `scytale_cipher` function above.\n",
    "    Example:\n",
    "    scytale_decipher(\"IMNNA_FTAOIGROE\", 3) -> \"INFORMATION_AGE\"\n",
    "    scytale_decipher(\"AOTSRIOALRH_EMRNGIMA_PTT\", 8) -> \"ALGORITHMS_ARE_IMPORTANT\"\n",
    "    scytale_decipher(\"IRIANMOGFANEOT__\", 4) -> \"INFORMATION_AGE_\"\n",
    "    There is no further brief for this number.\n",
    "    \n",
    "    Parameters\n",
    "    ----------\n",
    "    message: str\n",
    "        a string of uppercase English letters and underscores (underscores represent spaces)\n",
    "    shift: int\n",
    "        a positive int that does not exceed the length of message\n",
    "    Returns\n",
    "    -------\n",
    "    str\n",
    "        the decoded message\n",
    "    '''\n",
    "    # Replace `pass` with your code. \n",
    "    # Stay within the function. Only use the parameters as input. The function should return your answer.\n",
    "    z = \"\"\n",
    "    list1 = message\n",
    "    for i in range(len(list1)):\n",
    "        y = i*(shift)\n",
    "        if y <= len(list1)-1:\n",
    "            z = z + list1[y]\n",
    "        else:\n",
    "            while y > len(list1)-1:\n",
    "                y = y - (len(list1)-1)\n",
    "            z = z + list1[y]\n",
    "    return z"
   ]
  },
  {
   "cell_type": "code",
   "execution_count": 19,
   "id": "afcb9992-46f4-4b94-bdab-c0f61107f2fa",
   "metadata": {},
   "outputs": [
    {
     "data": {
      "text/plain": [
       "'INFORMATION_AGE_'"
      ]
     },
     "execution_count": 19,
     "metadata": {},
     "output_type": "execute_result"
    }
   ],
   "source": [
    "scytale_decipher(\"IRIANMOGFANEOT__\", 4)"
   ]
  },
  {
   "cell_type": "code",
   "execution_count": 20,
   "id": "1f2aea5d-83e6-4e00-a6fa-c4424b861e3e",
   "metadata": {},
   "outputs": [
    {
     "data": {
      "text/plain": [
       "'INFORMATION_AGE'"
      ]
     },
     "execution_count": 20,
     "metadata": {},
     "output_type": "execute_result"
    }
   ],
   "source": [
    "scytale_decipher(\"IMNNA_FTAOIGROE\", 3)"
   ]
  },
  {
   "cell_type": "code",
   "execution_count": 21,
   "id": "06eb037e-9328-42a6-a532-ddd3943f3d43",
   "metadata": {},
   "outputs": [
    {
     "data": {
      "text/plain": [
       "'ALGORITHMS_ARE_IMPORTANT'"
      ]
     },
     "execution_count": 21,
     "metadata": {},
     "output_type": "execute_result"
    }
   ],
   "source": [
    "scytale_decipher(\"AOTSRIOALRH_EMRNGIMA_PTT\", 8)"
   ]
  },
  {
   "cell_type": "code",
   "execution_count": null,
   "id": "93f2865b-2026-4b48-a186-2d4e6f27080b",
   "metadata": {},
   "outputs": [],
   "source": []
  }
 ],
 "metadata": {
  "kernelspec": {
   "display_name": "Python 3 (ipykernel)",
   "language": "python",
   "name": "python3"
  },
  "language_info": {
   "codemirror_mode": {
    "name": "ipython",
    "version": 3
   },
   "file_extension": ".py",
   "mimetype": "text/x-python",
   "name": "python",
   "nbconvert_exporter": "python",
   "pygments_lexer": "ipython3",
   "version": "3.9.12"
  }
 },
 "nbformat": 4,
 "nbformat_minor": 5
}
